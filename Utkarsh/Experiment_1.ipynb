{
 "cells": [
  {
   "cell_type": "markdown",
   "id": "ddfd7289",
   "metadata": {},
   "source": [
    "# Experiment 1\n",
    "## Exploring basics of python like data types (strings, list, array, dictionaries, set, tuples) and control statements.\n",
    "\n",
    "### a) Convert string to uppercase, lowercase, and find a substring in given string"
   ]
  },
  {
   "cell_type": "code",
   "execution_count": 5,
   "id": "8e2d2d68",
   "metadata": {
    "scrolled": false
   },
   "outputs": [
    {
     "name": "stdout",
     "output_type": "stream",
     "text": [
      "GUARDIANS OF GALAXY\n",
      "guardians of galaxy\n",
      "-1\n"
     ]
    }
   ],
   "source": [
    "s = \"Guardians of galaxy\"\n",
    "\n",
    "print(s.upper())\n",
    "print(s.lower())\n",
    "print(s.find('rld'))"
   ]
  },
  {
   "cell_type": "markdown",
   "id": "505858c5",
   "metadata": {},
   "source": [
    "### b) Create a list and perform append, extend, insert, remove, pop, slice operations "
   ]
  },
  {
   "cell_type": "code",
   "execution_count": 4,
   "id": "c569d647",
   "metadata": {},
   "outputs": [
    {
     "name": "stdout",
     "output_type": "stream",
     "text": [
      "['Thor', 'Captain America', 'Iron Man', 'Black Widow', 'Hawkeye', 'Scarlet Witch']\n",
      "['Thor', 'Captain America', 'Iron Man', 'Black Widow', 'Hawkeye', 'Scarlet Witch', 'Hulk']\n"
     ]
    }
   ],
   "source": [
    "heroes = ['Thor', 'Captain America', 'Iron Man', 'Black Widow', 'Hawkeye', 'Scarlet Witch']\n",
    "print(heroes)\n",
    "\n",
    "# append\n",
    "heroes.append('Hulk')\n",
    "print(heroes)"
   ]
  },
  {
   "cell_type": "code",
   "execution_count": 3,
   "id": "1b701253",
   "metadata": {},
   "outputs": [
    {
     "name": "stdout",
     "output_type": "stream",
     "text": [
      "['Thor', 'Captain America', 'Iron Man', 'Black Widow', 'Hawkeye', 'Scarlet Witch', 'Hulk', 'Nick Fury', 'Agent Hill']\n"
     ]
    }
   ],
   "source": [
    "# extend\n",
    "assistants = ['Nick Fury', 'Agent Hill']\n",
    "heroes.extend(assistants)\n",
    "print(heroes)"
   ]
  },
  {
   "cell_type": "code",
   "execution_count": 4,
   "id": "a64f15dd",
   "metadata": {},
   "outputs": [
    {
     "name": "stdout",
     "output_type": "stream",
     "text": [
      "['Thor', 'Captain America', 'Ant-Man', 'Iron Man', 'Black Widow', 'Hawkeye', 'Scarlet Witch', 'Hulk', 'Nick Fury', 'Agent Hill']\n"
     ]
    }
   ],
   "source": [
    "# insert\n",
    "heroes.insert(2, 'Ant-Man')\n",
    "print(heroes)"
   ]
  },
  {
   "cell_type": "code",
   "execution_count": 5,
   "id": "9a59a05b",
   "metadata": {},
   "outputs": [
    {
     "name": "stdout",
     "output_type": "stream",
     "text": [
      "['Thor', 'Captain America', 'Ant-Man', 'Iron Man', 'Black Widow', 'Hawkeye', 'Scarlet Witch', 'Hulk', 'Nick Fury']\n"
     ]
    }
   ],
   "source": [
    "# remove\n",
    "heroes.remove('Agent Hill')\n",
    "print(heroes)"
   ]
  },
  {
   "cell_type": "code",
   "execution_count": 10,
   "id": "03026b02",
   "metadata": {},
   "outputs": [
    {
     "name": "stdout",
     "output_type": "stream",
     "text": [
      "['Thor', 'Captain America', 'Iron Man', 'Black Widow']\n",
      "['Thor', 'Captain America', 'Iron Man', 'Black Widow']\n",
      "['Scarlet Witch', 'Hulk']\n",
      "Hulk\n",
      "['Hawkeye', 'Scarlet Witch']\n",
      "['Thor', 'Captain America', 'Iron Man', 'Black Widow', 'Hawkeye', 'Scarlet Witch', 'Hulk']\n",
      "['Captain America', 'Black Widow', 'Scarlet Witch']\n"
     ]
    }
   ],
   "source": [
    "# slice\n",
    "print(heroes[0:4])\n",
    "print(heroes[:4])\n",
    "print(heroes[5:])\n",
    "print(heroes[-1])\n",
    "print(heroes[-3:-1])\n",
    "print(heroes[:])\n",
    "print(heroes[1:6:2])"
   ]
  },
  {
   "cell_type": "code",
   "execution_count": 9,
   "id": "b4d6372a",
   "metadata": {},
   "outputs": [
    {
     "name": "stdout",
     "output_type": "stream",
     "text": [
      "['Thor', 'Captain America', 'Iron Man', 'Black Widow', 'Hawkeye', 'Scarlet Witch']\n"
     ]
    }
   ],
   "source": [
    "# pop\n",
    "heroes.pop()\n",
    "print(heroes)"
   ]
  },
  {
   "cell_type": "code",
   "execution_count": 10,
   "id": "8ca0723a",
   "metadata": {},
   "outputs": [
    {
     "name": "stdout",
     "output_type": "stream",
     "text": [
      "['Thor', 'Captain America', 'Black Widow', 'Hawkeye', 'Scarlet Witch']\n"
     ]
    }
   ],
   "source": [
    "heroes.pop(2)\n",
    "print(heroes)"
   ]
  },
  {
   "cell_type": "markdown",
   "id": "27172f0e",
   "metadata": {},
   "source": [
    "### c) Perform operations like intersection, union, difference on sets"
   ]
  },
  {
   "cell_type": "code",
   "execution_count": 4,
   "id": "beb5f680",
   "metadata": {},
   "outputs": [
    {
     "name": "stdout",
     "output_type": "stream",
     "text": [
      "old avengers:  {'Thor', 'Captain America', 'Iron Man', 'Hulk', 'Black Widow', 'Hawkeye'}\n",
      "new avengers:  {'Quicksilver', 'Scarlet Witch', 'Spiderman', 'Ant-Man'}\n",
      "United:  {'Thor', 'Captain America', 'Scarlet Witch', 'Spiderman', 'Black Widow', 'Hawkeye', 'Ant-Man', 'Iron Man', 'Quicksilver', 'Hulk'}\n",
      "Avengers in Civil War:  {'Captain America', 'Scarlet Witch', 'Spiderman', 'Black Panther', 'Ant-Man', 'Hawkeye', 'Black Widow', 'Iron Man'}\n",
      "Common avengers:  {'Captain America', 'Scarlet Witch', 'Spiderman', 'Ant-Man', 'Hawkeye', 'Black Widow', 'Iron Man'}\n",
      "Not in civil war:  {'Thor', 'Quicksilver', 'Hulk'}\n"
     ]
    }
   ],
   "source": [
    "old_avengers = {'Iron Man', 'Captain America', 'Black Widow', 'Hulk', 'Hawkeye', 'Thor'}\n",
    "new_avengers = {'Scarlet Witch', 'Quicksilver', 'Ant-Man', 'Spiderman'}\n",
    "print(\"old avengers: \", old_avengers)\n",
    "print(\"new avengers: \", new_avengers)\n",
    "\n",
    "# union\n",
    "united = old_avengers.union(new_avengers)\n",
    "print(\"United: \", united)\n",
    "\n",
    "civil_war = {'Iron Man', 'Hawkeye', 'Black Panther', 'Captain America', 'Scarlet Witch', 'Spiderman', 'Ant-Man', 'Black Widow'}\n",
    "print(\"Avengers in Civil War: \", civil_war)\n",
    "\n",
    "# intersection\n",
    "common = united.intersection(civil_war)\n",
    "print(\"Common avengers: \", common)\n",
    "\n",
    "# difference\n",
    "diff = united.difference(civil_war)\n",
    "print(\"Not in civil war: \", diff)"
   ]
  },
  {
   "cell_type": "markdown",
   "id": "30ceb2b5",
   "metadata": {},
   "source": [
    "### d) Perform operations  like create, update, delete, access, keys(), values(), looping over keys and values on dictionaries"
   ]
  },
  {
   "cell_type": "code",
   "execution_count": 5,
   "id": "73d2bc63",
   "metadata": {},
   "outputs": [
    {
     "name": "stdout",
     "output_type": "stream",
     "text": [
      "old avengers:  {'Iron Man': 'Tony Stark', 'Captain America': 'Steve Rogers', 'Black Widow': 'Natasha Romanoff', 'Hulk': 'Bruce Banner', 'Hawkeye': 'Clint Barton', 'Thor': 'Thor Odinson'}\n",
      "new avengers:  {'Scarlet Witch': 'Wanda Maximoff', 'Black Panther': 'Tchala'}\n"
     ]
    }
   ],
   "source": [
    "# create\n",
    "old_avengers = {'Iron Man' : 'Tony Stark', 'Captain America' : 'Steve Rogers', 'Black Widow' : 'Natasha Romanoff', 'Hulk' : 'Bruce Banner', 'Hawkeye' : 'Clint Barton', 'Thor' : 'Thor Odinson'}\n",
    "new_avengers = {'Scarlet Witch' : 'Wanda Maximoff', 'Black Panther' : 'Tchala'}\n",
    "print(\"old avengers: \", old_avengers)\n",
    "print(\"new avengers: \", new_avengers)"
   ]
  },
  {
   "cell_type": "code",
   "execution_count": 6,
   "id": "07154bc8",
   "metadata": {},
   "outputs": [
    {
     "name": "stdout",
     "output_type": "stream",
     "text": [
      "new avengers:  {'Scarlet Witch': 'Wanda Maximoff', 'Black Panther': 'Tchala', 'Ant-Man': 'Scott Lang', 'Falcon': 'Tom Wilson'}\n"
     ]
    }
   ],
   "source": [
    "# update\n",
    "new_avengers['Ant-Man'] = \"Scott Lang\"\n",
    "new_avengers['Falcon'] = \"Tom Wilson\"\n",
    "print(\"new avengers: \", new_avengers)"
   ]
  },
  {
   "cell_type": "code",
   "execution_count": 7,
   "id": "8e15bc68",
   "metadata": {},
   "outputs": [
    {
     "name": "stdout",
     "output_type": "stream",
     "text": [
      "new avengers:  {'Scarlet Witch': 'Wanda Maximoff', 'Black Panther': 'Tchala', 'Ant-Man': 'Scott Lang', 'Falcon': 'Tom Wilson'}\n",
      "new avengers:  {'Scarlet Witch': 'Wanda Maximoff', 'Black Panther': 'Tchala', 'Ant-Man': 'Scott Lang'}\n",
      "ret_val: Key not found\n",
      "new avengers:  {'Scarlet Witch': 'Wanda Maximoff', 'Black Panther': 'Tchala', 'Ant-Man': 'Scott Lang'}\n",
      "new avengers:  {'Scarlet Witch': 'Wanda Maximoff', 'Black Panther': 'Tchala', 'Ant-Man': 'Scott Lang', 'Falcon': 'Bruce Wilson'}\n",
      "ret_val: Bruce Wilson\n",
      "new avengers:  {'Scarlet Witch': 'Wanda Maximoff', 'Black Panther': 'Tchala', 'Ant-Man': 'Scott Lang'}\n"
     ]
    }
   ],
   "source": [
    "# delete\n",
    "print(\"new avengers: \", new_avengers)\n",
    "del new_avengers['Falcon']\n",
    "print(\"new avengers: \", new_avengers)\n",
    "ret_val = new_avengers.pop('Falcon', 'Key not found')\n",
    "print(\"ret_val:\", ret_val)\n",
    "print(\"new avengers: \", new_avengers)\n",
    "new_avengers['Falcon'] = \"Bruce Wilson\"\n",
    "print(\"new avengers: \", new_avengers)\n",
    "ret_val = new_avengers.pop('Falcon', 'Key not found')\n",
    "print(\"ret_val:\", ret_val)\n",
    "print(\"new avengers: \", new_avengers)"
   ]
  },
  {
   "cell_type": "code",
   "execution_count": 8,
   "id": "761ceb34",
   "metadata": {},
   "outputs": [
    {
     "name": "stdout",
     "output_type": "stream",
     "text": [
      "Black Widow is  Natasha Romanoff\n",
      "Iron Man is  Tony Stark\n",
      "dict_keys(['Iron Man', 'Captain America', 'Black Widow', 'Hulk', 'Hawkeye', 'Thor'])\n",
      "dict_values(['Tony Stark', 'Steve Rogers', 'Natasha Romanoff', 'Bruce Banner', 'Clint Barton', 'Thor Odinson'])\n"
     ]
    }
   ],
   "source": [
    "# access\n",
    "print(\"Black Widow is \", old_avengers['Black Widow'])\n",
    "print(\"Iron Man is \", old_avengers['Iron Man'])\n",
    "# print(old_avengers['Quicksilver']) ## KeyError\n",
    "\n",
    "# keys\n",
    "print(old_avengers.keys())\n",
    "print(old_avengers.values())"
   ]
  },
  {
   "cell_type": "code",
   "execution_count": 15,
   "id": "64f4747f",
   "metadata": {},
   "outputs": [
    {
     "name": "stdout",
     "output_type": "stream",
     "text": [
      "\n",
      "Looping on keys\n",
      "Scarlet Witch\n",
      "Black Panther\n",
      "Ant-Man\n",
      "\n",
      "Looping on values\n",
      "Wanda Maximoff\n",
      "Tchala\n",
      "Scott Lang\n",
      "\n",
      "Looping with tuples\n",
      "Scarlet Witch : Wanda Maximoff\n",
      "Black Panther : Tchala\n",
      "Ant-Man : Scott Lang\n",
      "Falcon : Sam Wilson\n"
     ]
    }
   ],
   "source": [
    "# looping\n",
    "print(\"\\nLooping on keys\")\n",
    "for hero in new_avengers:\n",
    "    print(hero)\n",
    "\n",
    "print(\"\\nLooping on values\")\n",
    "for person in new_avengers.values():\n",
    "    print(person)\n",
    "\n",
    "new_avengers['Falcon'] = \"Sam Wilson\"\n",
    "print(\"\\nLooping with tuples\")\n",
    "for hero, person in new_avengers.items():\n",
    "    print(hero, \":\", person)"
   ]
  },
  {
   "cell_type": "markdown",
   "id": "3b869e52",
   "metadata": {},
   "source": [
    "### e) Create a tuple and try and modify it; loop over a tuple; find min and max of a tuple"
   ]
  },
  {
   "cell_type": "code",
   "execution_count": 46,
   "id": "98f8d0ba",
   "metadata": {},
   "outputs": [
    {
     "name": "stdout",
     "output_type": "stream",
     "text": [
      "('Thor', 'Captain America', 'Iron Man', 'Black Widow', 'Hawkeye', 'Scarlet Witch')\n"
     ]
    }
   ],
   "source": [
    "heroes = ('Thor', 'Captain America', 'Iron Man', 'Black Widow', 'Hawkeye', 'Scarlet Witch')\n",
    "print(heroes)"
   ]
  },
  {
   "cell_type": "code",
   "execution_count": 47,
   "id": "ea45110d",
   "metadata": {},
   "outputs": [
    {
     "name": "stdout",
     "output_type": "stream",
     "text": [
      "<class 'tuple'>\n"
     ]
    }
   ],
   "source": [
    "print(type(heroes))"
   ]
  },
  {
   "cell_type": "code",
   "execution_count": 48,
   "id": "d6e48c35",
   "metadata": {},
   "outputs": [
    {
     "name": "stdout",
     "output_type": "stream",
     "text": [
      "Thor\n",
      "Black Widow\n"
     ]
    }
   ],
   "source": [
    "print(heroes[0])\n",
    "print(heroes[3])"
   ]
  },
  {
   "cell_type": "code",
   "execution_count": 49,
   "id": "6a7fed92",
   "metadata": {},
   "outputs": [],
   "source": [
    "# heroes[2] = 'Falcon' ## TypeError"
   ]
  },
  {
   "cell_type": "code",
   "execution_count": 50,
   "id": "7b48a8be",
   "metadata": {},
   "outputs": [
    {
     "name": "stdout",
     "output_type": "stream",
     "text": [
      "Thor\n",
      "Captain America\n",
      "Iron Man\n",
      "Black Widow\n",
      "Hawkeye\n",
      "Scarlet Witch\n"
     ]
    }
   ],
   "source": [
    "for hero in heroes:\n",
    "    print(hero)"
   ]
  },
  {
   "cell_type": "code",
   "execution_count": 53,
   "id": "4054bdc2",
   "metadata": {},
   "outputs": [
    {
     "name": "stdout",
     "output_type": "stream",
     "text": [
      "(23, 4.5, 211, 8.9, 13, 34, 44, 1214, 5672)\n",
      "Min:  4.5\n",
      "Max:  5672\n"
     ]
    }
   ],
   "source": [
    "nums = (23, 4.5, 211, 8.9, 13, 34, 44, 1214, 5672)\n",
    "print(nums)\n",
    "print(\"Min: \", min(nums))\n",
    "print(\"Max: \", max(nums))"
   ]
  },
  {
   "cell_type": "markdown",
   "id": "8250a0c8",
   "metadata": {},
   "source": [
    "### f) Write a python code to print all prime numbers in a user-defined range"
   ]
  },
  {
   "cell_type": "code",
   "execution_count": 1,
   "id": "4030b14c",
   "metadata": {},
   "outputs": [
    {
     "name": "stdout",
     "output_type": "stream",
     "text": [
      "Enter lower bound: 2\n",
      "Enter upper bound: 50\n",
      "2\n",
      "3\n",
      "5\n",
      "7\n",
      "11\n",
      "13\n",
      "17\n",
      "19\n",
      "23\n",
      "29\n",
      "31\n",
      "37\n",
      "41\n",
      "43\n",
      "47\n"
     ]
    }
   ],
   "source": [
    "# take range input from user\n",
    "lower_bound = int(input(\"Enter lower bound: \"))\n",
    "upper_bound = int(input(\"Enter upper bound: \"))\n",
    "\n",
    "def is_prime(num):\n",
    "    for i in range(2, num):\n",
    "        if num % i == 0:\n",
    "            return False\n",
    "    return True\n",
    "\n",
    "# loop over the range and find primes\n",
    "for n in range(lower_bound, upper_bound + 1):\n",
    "    if is_prime(n):\n",
    "        print(n)\n"
   ]
  },
  {
   "cell_type": "code",
   "execution_count": null,
   "id": "0b634242",
   "metadata": {},
   "outputs": [],
   "source": []
  },
  {
   "cell_type": "code",
   "execution_count": null,
   "id": "c4a82159",
   "metadata": {},
   "outputs": [],
   "source": []
  }
 ],
 "metadata": {
  "kernelspec": {
   "display_name": "Python 3 (ipykernel)",
   "language": "python",
   "name": "python3"
  },
  "language_info": {
   "codemirror_mode": {
    "name": "ipython",
    "version": 3
   },
   "file_extension": ".py",
   "mimetype": "text/x-python",
   "name": "python",
   "nbconvert_exporter": "python",
   "pygments_lexer": "ipython3",
   "version": "3.9.7"
  },
  "vscode": {
   "interpreter": {
    "hash": "be3f950095f4846377a17d42d86eb579248805da66f6e1685f87cbc8aeffb3a6"
   }
  }
 },
 "nbformat": 4,
 "nbformat_minor": 5
}
