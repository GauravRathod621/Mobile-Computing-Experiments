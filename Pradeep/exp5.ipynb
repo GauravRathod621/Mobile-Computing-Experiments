{
 "cells": [
  {
   "cell_type": "code",
   "execution_count": null,
   "id": "769310cb",
   "metadata": {},
   "outputs": [
    {
     "name": "stdout",
     "output_type": "stream",
     "text": [
      "1. Insert element\n",
      "2. Append element\n",
      "3. Remove element\n",
      "4. Search element\n",
      "0. Quit\n"
     ]
    }
   ],
   "source": [
    "def menu():\n",
    "    print(\"1. Insert element\")\n",
    "    print(\"2. Append element\")\n",
    "    print(\"3. Remove element\")\n",
    "    print(\"4. Search element\")\n",
    "    print(\"0. Quit\")\n",
    "\n",
    "\n",
    "# an empty list\n",
    "ll = []\n",
    "\n",
    "# display menu\n",
    "menu()\n",
    "\n",
    "# take user choice\n",
    "choice = int(input(\"Enter your choice: \"))\n",
    "while choice != 0:\n",
    "    # TODO: ask user to enter an element\n",
    "    elem=int(input(\"enter element in list\"))\n",
    "        \n",
    "    \n",
    "    # TODO: perform action based on user's choice\n",
    "    if choice == 1:\n",
    "        \n",
    "        p=int(input(\"position of element\"))\n",
    "        \n",
    "        ll.insert(p,elem)\n",
    "        ...\n",
    "    elif choice == 2:\n",
    "        \n",
    "        ll.append(elem)\n",
    "    # add more elif statements as per need\n",
    "    elif choice == 3:\n",
    "        \n",
    "        ll.remove(elem)\n",
    "    # For choice 3\n",
    "        # Print the index at which the element was found\n",
    "        # Then, remove the element\n",
    "    elif choice == 4:\n",
    "        ll.search(elem)\n",
    "    # For choice 4\n",
    "        # Print the index at which the element was found\n",
    "    # Also use exception handling for choices 3 and 4\n",
    "    elif choice == 0:\n",
    "        break\n",
    "    else:\n",
    "        print(\"Invalid choice\")\n",
    "\n",
    "    print(\"List:\", ll)\n",
    "\n",
    "    # display menu\n",
    "    menu()\n",
    "    choice = int(input(\"Enter your choice: \"))\n",
    "\n",
    "# end while\n"
   ]
  },
  {
   "cell_type": "code",
   "execution_count": null,
   "id": "c39e32a1",
   "metadata": {},
   "outputs": [],
   "source": []
  },
  {
   "cell_type": "code",
   "execution_count": null,
   "id": "4280618e",
   "metadata": {},
   "outputs": [],
   "source": []
  }
 ],
 "metadata": {
  "kernelspec": {
   "display_name": "Python 3 (ipykernel)",
   "language": "python",
   "name": "python3"
  },
  "language_info": {
   "codemirror_mode": {
    "name": "ipython",
    "version": 3
   },
   "file_extension": ".py",
   "mimetype": "text/x-python",
   "name": "python",
   "nbconvert_exporter": "python",
   "pygments_lexer": "ipython3",
   "version": "3.11.5"
  }
 },
 "nbformat": 4,
 "nbformat_minor": 5
}
