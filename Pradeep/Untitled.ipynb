{
 "cells": [
  {
   "cell_type": "code",
   "execution_count": null,
   "id": "ec7ec5b1",
   "metadata": {},
   "outputs": [],
   "source": [
    "def menu():\n",
    "    print(\"1. Insert element\")\n",
    "    print(\"2. Append element\")\n",
    "    print(\"3. Remove element\")\n",
    "    print(\"4. Search element\")\n",
    "    print(\"0. Quit\")\n",
    "\n",
    "\n",
    "# an empty list\n",
    "ll = []\n",
    "\n",
    "# display menu\n",
    "menu()\n",
    "\n",
    "# take user choice\n",
    "choice = int(input(\"Enter your choice: \"))\n",
    "while choice != 0:\n",
    "    # TODO: ask user to enter an element\n",
    "    elem = int(input(\"enter a number\"))\n",
    "    \n",
    "    # TODO: perform action based on user's choice\n",
    "    if choice == 1:\n",
    "        i= int(input(\"enter element to add in list\"))\n",
    "        p=int(input(\"position of element\"))\n",
    "        \n",
    "        ll.insert(p,i)\n",
    "        ...\n",
    "    elif choice == 2:\n",
    "        i= int(input(\"enter element to add in list\"))\n",
    "        ll.append(i)\n",
    "    # add more elif statements as per need\n",
    "        \n",
    "    # For choice 3\n",
    "        # Print the index at which the element was found\n",
    "        # Then, remove the element\n",
    "    # For choice 4\n",
    "        # Print the index at which the element was found\n",
    "    # Also use exception handling for choices 3 and 4\n",
    "    elif choice == 0:\n",
    "        break\n",
    "    else:\n",
    "        print(\"Invalid choice\")\n",
    "\n",
    "    print(\"List:\", ll)\n",
    "\n",
    "    # display menu\n",
    "    menu()\n",
    "    choice = int(input(\"Enter your choice: \"))\n",
    "\n",
    "# end while\n"
   ]
  }
 ],
 "metadata": {
  "kernelspec": {
   "display_name": "Python 3 (ipykernel)",
   "language": "python",
   "name": "python3"
  },
  "language_info": {
   "codemirror_mode": {
    "name": "ipython",
    "version": 3
   },
   "file_extension": ".py",
   "mimetype": "text/x-python",
   "name": "python",
   "nbconvert_exporter": "python",
   "pygments_lexer": "ipython3",
   "version": "3.11.5"
  }
 },
 "nbformat": 4,
 "nbformat_minor": 5
}
